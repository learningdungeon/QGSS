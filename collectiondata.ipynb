{
 "cells": [
  {
   "cell_type": "code",
   "execution_count": 1,
   "id": "d0508f67-69fc-414c-ae83-2fd89f81fd07",
   "metadata": {},
   "outputs": [],
   "source": [
    "import numpy as np\n",
    "import datetime\n",
    "from qiskit_ibm_runtime import QiskitRuntimeService\n",
    "\n",
    "def fetch_and_save_real_qpu_results(n=10, filename_prefix='real_qpu_bitarrays'):\n",
    "    \"\"\"\n",
    "    Fetches the last `n` quantum jobs from IBM Cloud,\n",
    "    extracts the bit_array (measurement data),\n",
    "    and saves them to a timestamped .npy file.\n",
    "\n",
    "    Args:\n",
    "        n (int): Number of recent jobs to fetch.\n",
    "        filename_prefix (str): Prefix for the output file name.\n",
    "    \"\"\"\n",
    "    service = QiskitRuntimeService()\n",
    "    jobs = service.jobs(limit=n)\n",
    "    bitarrays = {}\n",
    "\n",
    "    print(f\"📡 Fetching last {len(jobs)} job(s)...\")\n",
    "\n",
    "    for i, job in enumerate(jobs):\n",
    "        try:\n",
    "            result = job.result()\n",
    "            pub_result = result[0]\n",
    "            bit_array = pub_result.data.meas\n",
    "            job_id = job.job_id()\n",
    "            bitarrays[f'job_{i}_{job_id}'] = bit_array\n",
    "            print(f\"✅ Collected job {i+1}/{n} → ID: {job_id}\")\n",
    "        except Exception as e:\n",
    "            print(f\"⚠️ Skipped job {i+1} → ID: {job.job_id()}: {e}\")\n",
    "\n",
    "    timestamp = datetime.datetime.now().strftime(\"%Y%m%d_%H%M%S\")\n",
    "    filename = f\"{filename_prefix}_{timestamp}.npy\"\n",
    "    np.save(filename, bitarrays)\n",
    "    print(f\"\\n💾 Saved all bitarrays to '{filename}'\")\n"
   ]
  },
  {
   "cell_type": "code",
   "execution_count": 2,
   "id": "3c032b61-6433-4d1a-99f7-7976380271f3",
   "metadata": {},
   "outputs": [
    {
     "name": "stdout",
     "output_type": "stream",
     "text": [
      "📡 Fetching last 10 job(s)...\n",
      "✅ Collected job 1/10 → ID: d1s512g1mggs73b7ht30\n",
      "✅ Collected job 2/10 → ID: d1s3ubmjpjps738measg\n",
      "✅ Collected job 3/10 → ID: d1s3t901mggs73b7gscg\n",
      "✅ Collected job 4/10 → ID: d1s3sb5s0e1s73bmsiqg\n",
      "✅ Collected job 5/10 → ID: d1s3r96jpjps738me7n0\n",
      "✅ Collected job 6/10 → ID: d1s3r0ejpjps738me7f0\n",
      "✅ Collected job 7/10 → ID: d1s3qoejpjps738me770\n",
      "✅ Collected job 8/10 → ID: d1s3p26jpjps738me5jg\n",
      "✅ Collected job 9/10 → ID: d1s3ojk7uv5s73a74i70\n",
      "✅ Collected job 10/10 → ID: d1s3o5c7uv5s73a74hq0\n",
      "\n",
      "💾 Saved all bitarrays to 'real_qpu_bitarrays_20250717_102235.npy'\n"
     ]
    }
   ],
   "source": [
    "fetch_and_save_real_qpu_results(n=10)\n"
   ]
  },
  {
   "cell_type": "code",
   "execution_count": 3,
   "id": "848d9f8e-eeb7-49ef-bf2f-0c4a57cfb00b",
   "metadata": {},
   "outputs": [
    {
     "name": "stdout",
     "output_type": "stream",
     "text": [
      "📡 Fetching last 5 job(s)...\n",
      "✅ Collected job 1/5 → ID: d1s512g1mggs73b7ht30\n",
      "✅ Collected job 2/5 → ID: d1s3ubmjpjps738measg\n",
      "✅ Collected job 3/5 → ID: d1s3t901mggs73b7gscg\n",
      "✅ Collected job 4/5 → ID: d1s3sb5s0e1s73bmsiqg\n",
      "✅ Collected job 5/5 → ID: d1s3r96jpjps738me7n0\n",
      "\n",
      "💾 Saved all bitarrays to 'real_qpu_bitarrays_20250717_102236.npy'\n"
     ]
    }
   ],
   "source": [
    "fetch_and_save_real_qpu_results(n=5)\n"
   ]
  },
  {
   "cell_type": "code",
   "execution_count": 4,
   "id": "e803531b-e07c-4f9a-b55e-793ca2136173",
   "metadata": {},
   "outputs": [
    {
     "name": "stdout",
     "output_type": "stream",
     "text": [
      "job_0_d1s512g1mggs73b7ht30: BitArray(<shape=(), num_shots=10000, num_bits=32>)\n",
      "job_1_d1s3ubmjpjps738measg: BitArray(<shape=(), num_shots=10000, num_bits=32>)\n",
      "job_2_d1s3t901mggs73b7gscg: BitArray(<shape=(), num_shots=10000, num_bits=32>)\n",
      "job_3_d1s3sb5s0e1s73bmsiqg: BitArray(<shape=(), num_shots=10000, num_bits=32>)\n",
      "job_4_d1s3r96jpjps738me7n0: BitArray(<shape=(), num_shots=10000, num_bits=32>)\n"
     ]
    }
   ],
   "source": [
    "bitarrays = np.load('real_qpu_bitarrays_20250717_101329.npy', allow_pickle=True).item()\n",
    "\n",
    "# Example use:\n",
    "for job_id, bit_array in bitarrays.items():\n",
    "    print(f\"{job_id}: {bit_array}\")\n"
   ]
  },
  {
   "cell_type": "code",
   "execution_count": 5,
   "id": "3b86caf2-10b2-460c-ac56-8d906f74f530",
   "metadata": {},
   "outputs": [
    {
     "name": "stdout",
     "output_type": "stream",
     "text": [
      "job_0_d1s512g1mggs73b7ht30: BitArray(<shape=(), num_shots=10000, num_bits=32>)\n",
      "job_1_d1s3ubmjpjps738measg: BitArray(<shape=(), num_shots=10000, num_bits=32>)\n",
      "job_2_d1s3t901mggs73b7gscg: BitArray(<shape=(), num_shots=10000, num_bits=32>)\n",
      "job_3_d1s3sb5s0e1s73bmsiqg: BitArray(<shape=(), num_shots=10000, num_bits=32>)\n",
      "job_4_d1s3r96jpjps738me7n0: BitArray(<shape=(), num_shots=10000, num_bits=32>)\n",
      "job_5_d1s3r0ejpjps738me7f0: BitArray(<shape=(), num_shots=10000, num_bits=32>)\n",
      "job_6_d1s3qoejpjps738me770: BitArray(<shape=(), num_shots=10000, num_bits=32>)\n",
      "job_7_d1s3p26jpjps738me5jg: BitArray(<shape=(), num_shots=10000, num_bits=32>)\n",
      "job_8_d1s3ojk7uv5s73a74i70: BitArray(<shape=(), num_shots=10000, num_bits=32>)\n",
      "job_9_d1s3o5c7uv5s73a74hq0: BitArray(<shape=(), num_shots=10000, num_bits=32>)\n"
     ]
    }
   ],
   "source": [
    "bitarrays = np.load('all_real_bitarrays.npy', allow_pickle=True).item()\n",
    "\n",
    "# For example:\n",
    "for job_id, bit_array in bitarrays.items():\n",
    "    print(f\"{job_id}: {bit_array}\")\n"
   ]
  },
  {
   "cell_type": "code",
   "execution_count": 6,
   "id": "51ac11cd-9e3d-490c-8585-d06676705d83",
   "metadata": {},
   "outputs": [],
   "source": [
    "import numpy as np\n",
    "import datetime\n",
    "import csv\n",
    "from qiskit_ibm_runtime import QiskitRuntimeService\n",
    "\n",
    "def fetch_and_save_jobs_separately_with_summary(n=10, filename_prefix='bitarray_job', summary_file='bitarray_summary.csv'):\n",
    "    \"\"\"\n",
    "    Fetches the last `n` IBM Quantum jobs, saves each bit_array in a separate .npy file,\n",
    "    and creates a summary CSV with job info.\n",
    "    \"\"\"\n",
    "    service = QiskitRuntimeService()\n",
    "    jobs = service.jobs(limit=n)\n",
    "\n",
    "    print(f\"📡 Fetching and saving the last {len(jobs)} job(s)...\\n\")\n",
    "\n",
    "    summary_data = []\n",
    "\n",
    "    for i, job in enumerate(jobs):\n",
    "        try:\n",
    "            result = job.result()\n",
    "            pub_result = result[0]\n",
    "            bit_array = pub_result.data.meas\n",
    "\n",
    "            job_id = job.job_id()\n",
    "            timestamp = datetime.datetime.now().strftime(\"%Y%m%d_%H%M%S\")\n",
    "            filename = f\"{filename_prefix}_{i+1}_{job_id}_{timestamp}.npy\"\n",
    "            \n",
    "            # Save the individual bit array\n",
    "            np.save(filename, bit_array)\n",
    "            print(f\"✅ Saved Job {i+1}/{n} → '{filename}'\")\n",
    "\n",
    "            # Add summary entry\n",
    "            summary_data.append({\n",
    "                'Job Number': i + 1,\n",
    "                'Job ID': job_id,\n",
    "                'Filename': filename,\n",
    "                'Timestamp': timestamp\n",
    "            })\n",
    "\n",
    "        except Exception as e:\n",
    "            print(f\"⚠️ Could not fetch job {i+1} (ID: {job.job_id()}): {e}\")\n",
    "\n",
    "    # Save CSV summary\n",
    "    with open(summary_file, 'w', newline='') as csvfile:\n",
    "        fieldnames = ['Job Number', 'Job ID', 'Filename', 'Timestamp']\n",
    "        writer = csv.DictWriter(csvfile, fieldnames=fieldnames)\n",
    "\n",
    "        writer.writeheader()\n",
    "        writer.writerows(summary_data)\n",
    "\n",
    "    print(f\"\\n🧾 Summary saved to '{summary_file}' with {len(summary_data)} entries.\")\n"
   ]
  },
  {
   "cell_type": "code",
   "execution_count": 7,
   "id": "b9f1f22a-6a06-4b34-8abc-ad445c236436",
   "metadata": {},
   "outputs": [
    {
     "name": "stdout",
     "output_type": "stream",
     "text": [
      "📡 Fetching and saving the last 10 job(s)...\n",
      "\n",
      "✅ Saved Job 1/10 → 'bitarray_job_1_d1s512g1mggs73b7ht30_20250717_102238.npy'\n",
      "✅ Saved Job 2/10 → 'bitarray_job_2_d1s3ubmjpjps738measg_20250717_102238.npy'\n",
      "✅ Saved Job 3/10 → 'bitarray_job_3_d1s3t901mggs73b7gscg_20250717_102238.npy'\n",
      "✅ Saved Job 4/10 → 'bitarray_job_4_d1s3sb5s0e1s73bmsiqg_20250717_102238.npy'\n",
      "✅ Saved Job 5/10 → 'bitarray_job_5_d1s3r96jpjps738me7n0_20250717_102239.npy'\n",
      "✅ Saved Job 6/10 → 'bitarray_job_6_d1s3r0ejpjps738me7f0_20250717_102239.npy'\n",
      "✅ Saved Job 7/10 → 'bitarray_job_7_d1s3qoejpjps738me770_20250717_102239.npy'\n",
      "✅ Saved Job 8/10 → 'bitarray_job_8_d1s3p26jpjps738me5jg_20250717_102239.npy'\n",
      "✅ Saved Job 9/10 → 'bitarray_job_9_d1s3ojk7uv5s73a74i70_20250717_102239.npy'\n",
      "✅ Saved Job 10/10 → 'bitarray_job_10_d1s3o5c7uv5s73a74hq0_20250717_102239.npy'\n",
      "\n",
      "🧾 Summary saved to 'bitarray_summary.csv' with 10 entries.\n"
     ]
    }
   ],
   "source": [
    "fetch_and_save_jobs_separately_with_summary(n=10)\n"
   ]
  },
  {
   "cell_type": "code",
   "execution_count": 8,
   "id": "52e95505-4318-45da-a0b0-ed35e7b207ed",
   "metadata": {},
   "outputs": [
    {
     "ename": "NameError",
     "evalue": "name 'pub_result' is not defined",
     "output_type": "error",
     "traceback": [
      "\u001b[0;31m---------------------------------------------------------------------------\u001b[0m",
      "\u001b[0;31mNameError\u001b[0m                                 Traceback (most recent call last)",
      "Cell \u001b[0;32mIn[8], line 1\u001b[0m\n\u001b[0;32m----> 1\u001b[0m bit_array \u001b[38;5;241m=\u001b[39m \u001b[43mpub_result\u001b[49m\u001b[38;5;241m.\u001b[39mdata\u001b[38;5;241m.\u001b[39mmeas\n\u001b[1;32m      3\u001b[0m \u001b[38;5;66;03m# Convert BitArray to dictionary\u001b[39;00m\n\u001b[1;32m      4\u001b[0m bit_dict \u001b[38;5;241m=\u001b[39m \u001b[38;5;28mdict\u001b[39m(bit_array)\n",
      "\u001b[0;31mNameError\u001b[0m: name 'pub_result' is not defined"
     ]
    }
   ],
   "source": [
    "bit_array = pub_result.data.meas\n",
    "\n",
    "# Convert BitArray to dictionary\n",
    "bit_dict = dict(bit_array)\n",
    "\n",
    "# Save the .npy file\n",
    "np.save(f\"{base_filename}.npy\", bit_dict)\n",
    "\n",
    "# Plot the histogram\n",
    "labels = list(bit_dict.keys())\n",
    "values = list(bit_dict.values())\n",
    "\n",
    "plt.figure(figsize=(10, 5))\n",
    "plt.bar(labels, values, color='skyblue')\n",
    "plt.xticks(rotation=90)\n",
    "plt.xlabel(\"Bitstrings\")\n",
    "plt.ylabel(\"Counts\")\n",
    "plt.title(f\"Job {i+1} – Bitstring Distribution\")\n",
    "plt.tight_layout()\n",
    "plt.savefig(f\"{base_filename}.png\")\n",
    "plt.close()\n"
   ]
  },
  {
   "cell_type": "code",
   "execution_count": 10,
   "id": "54c72b33-f784-4e29-a605-5b32a7b4bbeb",
   "metadata": {},
   "outputs": [],
   "source": [
    "import matplotlib.pyplot as plt\n",
    "import numpy as np\n",
    "import datetime\n",
    "from qiskit_ibm_runtime import QiskitRuntimeService\n",
    "\n",
    "service = QiskitRuntimeService()\n",
    "\n",
    "def fetch_and_save_jobs_separately(n=5):\n",
    "    jobs = service.jobs(limit=n)\n",
    "    for i, job in enumerate(jobs):\n",
    "        try:\n",
    "            job_id = job.job_id()\n",
    "            print(f\"\\n📦 Fetching Job {i+1} (ID: {job_id})...\")\n",
    "            \n",
    "            # Get result\n",
    "            result = job.result()\n",
    "            primitive_result = result[0]\n",
    "            bit_array = primitive_result.data.meas\n",
    "            bit_dict = dict(bit_array)\n",
    "\n",
    "            print(f\"✅ Job {i+1} fetched. Top 5 bitstrings:\")\n",
    "            for k, v in list(bit_dict.items())[:5]:\n",
    "                print(f\"{k}: {v}\")\n",
    "            \n",
    "            # Save .npy\n",
    "            timestamp = datetime.datetime.now().strftime(\"%Y%m%d_%H%M%S\")\n",
    "            filename_base = f\"bitarray_job_{i+1}_{job_id}_{timestamp}\"\n",
    "            np.save(f\"{filename_base}.npy\", bit_dict)\n",
    "\n",
    "            # Plot\n",
    "            plt.figure(figsize=(10, 4))\n",
    "            plt.bar(bit_dict.keys(), bit_dict.values(), color='skyblue')\n",
    "            plt.xticks(rotation=90)\n",
    "            plt.xlabel(\"Bitstrings\")\n",
    "            plt.ylabel(\"Counts\")\n",
    "            plt.title(f\"Job {i+1} Bitstring Distribution\")\n",
    "            plt.tight_layout()\n",
    "            plt.savefig(f\"{filename_base}.png\")\n",
    "            plt.show()\n",
    "            plt.close()\n",
    "\n",
    "        except Exception as e:\n",
    "            print(f\"⚠️ Failed to process job {i+1} (ID: {job_id}): {e}\")\n"
   ]
  },
  {
   "cell_type": "code",
   "execution_count": 11,
   "id": "77d50507-9055-48cc-ba6a-046b9fb8c5da",
   "metadata": {},
   "outputs": [
    {
     "name": "stdout",
     "output_type": "stream",
     "text": [
      "\n",
      "📦 Fetching Job 1 (ID: d1s512g1mggs73b7ht30)...\n",
      "⚠️ Failed to process job 1 (ID: d1s512g1mggs73b7ht30): The input array must have at least two axes.\n",
      "\n",
      "📦 Fetching Job 2 (ID: d1s3ubmjpjps738measg)...\n",
      "⚠️ Failed to process job 2 (ID: d1s3ubmjpjps738measg): The input array must have at least two axes.\n",
      "\n",
      "📦 Fetching Job 3 (ID: d1s3t901mggs73b7gscg)...\n",
      "⚠️ Failed to process job 3 (ID: d1s3t901mggs73b7gscg): The input array must have at least two axes.\n",
      "\n",
      "📦 Fetching Job 4 (ID: d1s3sb5s0e1s73bmsiqg)...\n",
      "⚠️ Failed to process job 4 (ID: d1s3sb5s0e1s73bmsiqg): The input array must have at least two axes.\n",
      "\n",
      "📦 Fetching Job 5 (ID: d1s3r96jpjps738me7n0)...\n",
      "⚠️ Failed to process job 5 (ID: d1s3r96jpjps738me7n0): The input array must have at least two axes.\n"
     ]
    }
   ],
   "source": [
    "fetch_and_save_jobs_separately(n=5)\n"
   ]
  },
  {
   "cell_type": "code",
   "execution_count": 12,
   "id": "45966b38-2b43-4e9e-bb57-8e0970796b35",
   "metadata": {},
   "outputs": [
    {
     "name": "stdout",
     "output_type": "stream",
     "text": [
      "\n",
      "📦 Job 1 (ID: d1s512g1mggs73b7ht30)\n",
      "🔍 Type of meas: <class 'qiskit.primitives.containers.bit_array.BitArray'>\n",
      "🔢 Sample data (first 10 rows):\n",
      "BitArray(<shape=(), num_shots=10, num_bits=32>)\n",
      "\n",
      "📦 Job 2 (ID: d1s3ubmjpjps738measg)\n",
      "🔍 Type of meas: <class 'qiskit.primitives.containers.bit_array.BitArray'>\n",
      "🔢 Sample data (first 10 rows):\n",
      "BitArray(<shape=(), num_shots=10, num_bits=32>)\n",
      "\n",
      "📦 Job 3 (ID: d1s3t901mggs73b7gscg)\n",
      "🔍 Type of meas: <class 'qiskit.primitives.containers.bit_array.BitArray'>\n",
      "🔢 Sample data (first 10 rows):\n",
      "BitArray(<shape=(), num_shots=10, num_bits=32>)\n",
      "\n",
      "📦 Job 4 (ID: d1s3sb5s0e1s73bmsiqg)\n",
      "🔍 Type of meas: <class 'qiskit.primitives.containers.bit_array.BitArray'>\n",
      "🔢 Sample data (first 10 rows):\n",
      "BitArray(<shape=(), num_shots=10, num_bits=32>)\n",
      "\n",
      "📦 Job 5 (ID: d1s3r96jpjps738me7n0)\n",
      "🔍 Type of meas: <class 'qiskit.primitives.containers.bit_array.BitArray'>\n",
      "🔢 Sample data (first 10 rows):\n",
      "BitArray(<shape=(), num_shots=10, num_bits=32>)\n"
     ]
    }
   ],
   "source": [
    "jobs = service.jobs(limit=5)\n",
    "\n",
    "for i, job in enumerate(jobs):\n",
    "    try:\n",
    "        job_id = job.job_id()\n",
    "        print(f\"\\n📦 Job {i+1} (ID: {job_id})\")\n",
    "\n",
    "        result = job.result()\n",
    "        primitive_result = result[0]\n",
    "\n",
    "        meas_data = primitive_result.data.meas\n",
    "        print(f\"🔍 Type of meas: {type(meas_data)}\")\n",
    "        print(f\"🔢 Sample data (first 10 rows):\\n{meas_data[:10]}\")\n",
    "        \n",
    "    except Exception as e:\n",
    "        print(f\"⚠️ Failed to process job {i+1}: {e}\")\n"
   ]
  },
  {
   "cell_type": "code",
   "execution_count": 13,
   "id": "2e8dd556-6ab9-4af8-b8e5-f7a6e78e8c87",
   "metadata": {},
   "outputs": [
    {
     "name": "stdout",
     "output_type": "stream",
     "text": [
      "\n",
      "📦 Job 1 (ID: d1s512g1mggs73b7ht30)\n",
      "⚠️ Failed to process job 1: 'BitArray' object has no attribute 'to_counts'\n",
      "\n",
      "📦 Job 2 (ID: d1s3ubmjpjps738measg)\n",
      "⚠️ Failed to process job 2: 'BitArray' object has no attribute 'to_counts'\n",
      "\n",
      "📦 Job 3 (ID: d1s3t901mggs73b7gscg)\n",
      "⚠️ Failed to process job 3: 'BitArray' object has no attribute 'to_counts'\n",
      "\n",
      "📦 Job 4 (ID: d1s3sb5s0e1s73bmsiqg)\n",
      "⚠️ Failed to process job 4: 'BitArray' object has no attribute 'to_counts'\n",
      "\n",
      "📦 Job 5 (ID: d1s3r96jpjps738me7n0)\n",
      "⚠️ Failed to process job 5: 'BitArray' object has no attribute 'to_counts'\n"
     ]
    }
   ],
   "source": [
    "from qiskit.result import marginal_counts\n",
    "from qiskit.visualization import plot_histogram\n",
    "\n",
    "for i, job in enumerate(jobs):\n",
    "    try:\n",
    "        print(f\"\\n📦 Job {i+1} (ID: {job.job_id()})\")\n",
    "\n",
    "        result = job.result()\n",
    "        pub_result = result[0]\n",
    "        bit_array = pub_result.data.meas\n",
    "\n",
    "        # ✅ Convert BitArray to counts dictionary\n",
    "        counts = bit_array.to_counts()\n",
    "\n",
    "        # ✅ Print a few entries\n",
    "        print(\"Sample counts:\", dict(list(counts.items())[:5]))\n",
    "\n",
    "        # ✅ Plot histogram\n",
    "        plot_histogram(counts).show()\n",
    "\n",
    "        # (Optional) Save counts if needed\n",
    "        # with open(f\"job_{i+1}_counts.json\", \"w\") as f:\n",
    "        #     json.dump(counts, f)\n",
    "\n",
    "    except Exception as e:\n",
    "        print(f\"⚠️ Failed to process job {i+1}: {e}\")\n"
   ]
  },
  {
   "cell_type": "code",
   "execution_count": 14,
   "id": "237f84d4-77da-49f7-b1b0-37acb674b413",
   "metadata": {},
   "outputs": [
    {
     "name": "stdout",
     "output_type": "stream",
     "text": [
      "\n",
      "📦 Job 1 (ID: d1s512g1mggs73b7ht30)\n",
      "⚠️ Failed to process job 1: The input array must have at least two axes.\n",
      "\n",
      "📦 Job 2 (ID: d1s3ubmjpjps738measg)\n",
      "⚠️ Failed to process job 2: The input array must have at least two axes.\n",
      "\n",
      "📦 Job 3 (ID: d1s3t901mggs73b7gscg)\n",
      "⚠️ Failed to process job 3: The input array must have at least two axes.\n",
      "\n",
      "📦 Job 4 (ID: d1s3sb5s0e1s73bmsiqg)\n",
      "⚠️ Failed to process job 4: The input array must have at least two axes.\n",
      "\n",
      "📦 Job 5 (ID: d1s3r96jpjps738me7n0)\n",
      "⚠️ Failed to process job 5: The input array must have at least two axes.\n"
     ]
    }
   ],
   "source": [
    "from collections import Counter\n",
    "from qiskit.visualization import plot_histogram\n",
    "\n",
    "for i, job in enumerate(jobs):\n",
    "    try:\n",
    "        print(f\"\\n📦 Job {i+1} (ID: {job.job_id()})\")\n",
    "\n",
    "        result = job.result()\n",
    "        pub_result = result[0]\n",
    "        bit_array = pub_result.data.meas  # BitArray object\n",
    "\n",
    "        # ✅ Convert each shot to bitstring (e.g., '0101')\n",
    "        bitstrings = [''.join(map(str, bits)) for bits in bit_array]\n",
    "\n",
    "        # ✅ Count occurrences of each bitstring\n",
    "        counts = dict(Counter(bitstrings))\n",
    "\n",
    "        print(\"Sample counts:\", dict(list(counts.items())[:5]))\n",
    "\n",
    "        # ✅ Plot histogram (may not show in Qbraid — let me know)\n",
    "        plot_histogram(counts).show()\n",
    "\n",
    "    except Exception as e:\n",
    "        print(f\"⚠️ Failed to process job {i+1}: {e}\")\n"
   ]
  },
  {
   "cell_type": "code",
   "execution_count": 15,
   "id": "6d366cd8-1bd6-42b3-a50e-0d320d081251",
   "metadata": {},
   "outputs": [
    {
     "name": "stdout",
     "output_type": "stream",
     "text": [
      "\n",
      "📦 Job 1 (ID: d1s512g1mggs73b7ht30)\n",
      "⚠️ Failed to process job 1: 'BitArray' object has no attribute 'to_numpy'\n",
      "\n",
      "📦 Job 2 (ID: d1s3ubmjpjps738measg)\n",
      "⚠️ Failed to process job 2: 'BitArray' object has no attribute 'to_numpy'\n",
      "\n",
      "📦 Job 3 (ID: d1s3t901mggs73b7gscg)\n",
      "⚠️ Failed to process job 3: 'BitArray' object has no attribute 'to_numpy'\n",
      "\n",
      "📦 Job 4 (ID: d1s3sb5s0e1s73bmsiqg)\n",
      "⚠️ Failed to process job 4: 'BitArray' object has no attribute 'to_numpy'\n",
      "\n",
      "📦 Job 5 (ID: d1s3r96jpjps738me7n0)\n",
      "⚠️ Failed to process job 5: 'BitArray' object has no attribute 'to_numpy'\n"
     ]
    }
   ],
   "source": [
    "from collections import Counter\n",
    "from qiskit.visualization import plot_histogram\n",
    "import matplotlib.pyplot as plt\n",
    "\n",
    "for i, job in enumerate(jobs):\n",
    "    try:\n",
    "        print(f\"\\n📦 Job {i+1} (ID: {job.job_id()})\")\n",
    "\n",
    "        result = job.result()\n",
    "        pub_result = result[0]\n",
    "        bit_array = pub_result.data.meas  # BitArray object\n",
    "\n",
    "        # 👉 Ensure array is at least 2D\n",
    "        array_data = bit_array.to_numpy()\n",
    "        if array_data.ndim == 1:\n",
    "            array_data = array_data.reshape(1, -1)  # Make it (1, n_bits)\n",
    "\n",
    "        # ✅ Convert each shot to bitstring\n",
    "        bitstrings = [''.join(map(str, row)) for row in array_data]\n",
    "\n",
    "        # ✅ Count bitstring occurrences\n",
    "        counts = dict(Counter(bitstrings))\n",
    "\n",
    "        print(\"Sample counts:\", dict(list(counts.items())[:5]))\n",
    "\n",
    "        # ✅ Plot histogram\n",
    "        fig = plot_histogram(counts)\n",
    "        fig.show()\n",
    "\n",
    "    except Exception as e:\n",
    "        print(f\"⚠️ Failed to process job {i+1}: {e}\")\n"
   ]
  },
  {
   "cell_type": "code",
   "execution_count": 16,
   "id": "2c4e4788-c11a-4b52-beaf-7c3ebb875a03",
   "metadata": {},
   "outputs": [
    {
     "name": "stdout",
     "output_type": "stream",
     "text": [
      "\n",
      "📦 Job 1 (ID: d1s512g1mggs73b7ht30)\n",
      "⚠️ Failed to process job 1: 'BitArray' object has no attribute 'to_labels'\n",
      "\n",
      "📦 Job 2 (ID: d1s3ubmjpjps738measg)\n",
      "⚠️ Failed to process job 2: 'BitArray' object has no attribute 'to_labels'\n",
      "\n",
      "📦 Job 3 (ID: d1s3t901mggs73b7gscg)\n",
      "⚠️ Failed to process job 3: 'BitArray' object has no attribute 'to_labels'\n",
      "\n",
      "📦 Job 4 (ID: d1s3sb5s0e1s73bmsiqg)\n",
      "⚠️ Failed to process job 4: 'BitArray' object has no attribute 'to_labels'\n",
      "\n",
      "📦 Job 5 (ID: d1s3r96jpjps738me7n0)\n",
      "⚠️ Failed to process job 5: 'BitArray' object has no attribute 'to_labels'\n"
     ]
    }
   ],
   "source": [
    "from collections import Counter\n",
    "from qiskit.visualization import plot_histogram\n",
    "import matplotlib.pyplot as plt\n",
    "\n",
    "for i, job in enumerate(jobs):\n",
    "    try:\n",
    "        print(f\"\\n📦 Job {i+1} (ID: {job.job_id()})\")\n",
    "\n",
    "        result = job.result()\n",
    "        pub_result = result[0]\n",
    "        bit_array = pub_result.data.meas  # BitArray\n",
    "\n",
    "        # ✅ Convert BitArray to list of bitstrings\n",
    "        bitstrings = bit_array.to_labels()  # returns ['0101', '1110', ...]\n",
    "\n",
    "        # ✅ Count occurrences\n",
    "        counts = dict(Counter(bitstrings))\n",
    "        print(\"Sample counts:\", dict(list(counts.items())[:5]))\n",
    "\n",
    "        # ✅ Plot histogram\n",
    "        fig = plot_histogram(counts)\n",
    "        fig.show()\n",
    "\n",
    "    except Exception as e:\n",
    "        print(f\"⚠️ Failed to process job {i+1}: {e}\")\n"
   ]
  },
  {
   "cell_type": "code",
   "execution_count": 17,
   "id": "e6684c9e-ef42-478f-a480-0e1deeb281a6",
   "metadata": {},
   "outputs": [],
   "source": [
    "from qiskit_ibm_runtime import QiskitRuntimeService\n",
    "\n",
    "# Load your IBM credentials (if not already loaded)\n",
    "service = QiskitRuntimeService()\n",
    "\n",
    "# Fetch the job\n",
    "job = service.job(job_id='d1s512g1mggs73b7ht30')\n"
   ]
  },
  {
   "cell_type": "code",
   "execution_count": 18,
   "id": "40b5b995-71f9-4de2-8b6e-7d55ee6f079e",
   "metadata": {},
   "outputs": [],
   "source": [
    "result = job.result()\n"
   ]
  },
  {
   "cell_type": "code",
   "execution_count": 19,
   "id": "c1f255bd-1416-40c2-8191-976188f2982c",
   "metadata": {},
   "outputs": [
    {
     "name": "stdout",
     "output_type": "stream",
     "text": [
      "<class 'qiskit.primitives.containers.primitive_result.PrimitiveResult'>\n",
      "PrimitiveResult([SamplerPubResult(data=DataBin(meas=BitArray(<shape=(), num_shots=10000, num_bits=32>)), metadata={'circuit_metadata': {}})], metadata={'execution': {'execution_spans': ExecutionSpans([DoubleSliceSpan(<start='2025-07-17 01:23:24', stop='2025-07-17 01:23:28', size=10000>)])}, 'version': 2})\n"
     ]
    }
   ],
   "source": [
    "print(type(result))  # Typically <class 'qiskit.primitives.primitive_job.PrimitiveJobResult'>\n",
    "print(result)        # Might show summary\n"
   ]
  },
  {
   "cell_type": "code",
   "execution_count": 20,
   "id": "b13a3571-5f3a-49d3-91b1-57e4abad66fc",
   "metadata": {},
   "outputs": [
    {
     "name": "stdout",
     "output_type": "stream",
     "text": [
      "['__annotations__', '__class__', '__class_getitem__', '__delattr__', '__dict__', '__dir__', '__doc__', '__eq__', '__format__', '__ge__', '__getattribute__', '__getitem__', '__getstate__', '__gt__', '__hash__', '__init__', '__init_subclass__', '__iter__', '__le__', '__len__', '__lt__', '__module__', '__ne__', '__new__', '__orig_bases__', '__parameters__', '__reduce__', '__reduce_ex__', '__repr__', '__setattr__', '__sizeof__', '__slots__', '__str__', '__subclasshook__', '__weakref__', '_is_protocol', '_metadata', '_pub_results', 'metadata']\n"
     ]
    }
   ],
   "source": [
    "# Try these one by one:\n",
    "print(dir(result))  # See available fields like .data or .results\n",
    "\n",
    "# Try this if it exists:\n",
    "if hasattr(result, 'results'):\n",
    "    print(result.results)\n"
   ]
  },
  {
   "cell_type": "code",
   "execution_count": 21,
   "id": "0bf6b46a-6d43-4fa9-9374-80044ed10235",
   "metadata": {},
   "outputs": [
    {
     "name": "stdout",
     "output_type": "stream",
     "text": [
      "['__annotations__', '__class__', '__class_getitem__', '__delattr__', '__dict__', '__dir__', '__doc__', '__eq__', '__format__', '__ge__', '__getattribute__', '__getitem__', '__getstate__', '__gt__', '__hash__', '__init__', '__init_subclass__', '__iter__', '__le__', '__len__', '__lt__', '__module__', '__ne__', '__new__', '__orig_bases__', '__parameters__', '__reduce__', '__reduce_ex__', '__repr__', '__setattr__', '__sizeof__', '__slots__', '__str__', '__subclasshook__', '__weakref__', '_is_protocol', '_metadata', '_pub_results', 'metadata']\n"
     ]
    }
   ],
   "source": [
    "# Try these one by one:\n",
    "print(dir(result))  # See available fields like .data or .results\n",
    "\n",
    "# Try this if it exists:\n",
    "if hasattr(result, 'results'):\n",
    "    print(result.results)\n"
   ]
  },
  {
   "cell_type": "code",
   "execution_count": 22,
   "id": "06880295-8de5-41ce-be06-9fe91a12650c",
   "metadata": {},
   "outputs": [
    {
     "name": "stdout",
     "output_type": "stream",
     "text": [
      "BitArray(<shape=(), num_shots=10000, num_bits=32>)\n",
      "<class 'qiskit.primitives.containers.bit_array.BitArray'>\n",
      "Shape: ()\n",
      "Shots: 10000\n",
      "Bits : 32\n"
     ]
    }
   ],
   "source": [
    "meas = result[0].data.meas  # or possibly result.data.meas\n",
    "print(meas)\n",
    "print(type(meas))\n",
    "print(\"Shape:\", getattr(meas, \"shape\", \"No shape\"))\n",
    "print(\"Shots:\", getattr(meas, \"num_shots\", \"No info\"))\n",
    "print(\"Bits :\", getattr(meas, \"num_bits\", \"No info\"))\n"
   ]
  },
  {
   "cell_type": "code",
   "execution_count": 23,
   "id": "9dcad932-cd5f-4893-80e4-774f44c55b3f",
   "metadata": {},
   "outputs": [
    {
     "name": "stdout",
     "output_type": "stream",
     "text": [
      "First 5 bitstrings: BitArray(<shape=(), num_shots=5, num_bits=32>)\n",
      "to_counts() failed: 'BitArray' object has no attribute 'to_counts'\n",
      "to_numpy() failed: 'BitArray' object has no attribute 'to_numpy'\n"
     ]
    }
   ],
   "source": [
    "# If you see valid shots/bits\n",
    "try:\n",
    "    print(\"First 5 bitstrings:\", meas[:5])\n",
    "except Exception as e:\n",
    "    print(\"Error showing bits:\", e)\n",
    "\n",
    "# Try converting\n",
    "try:\n",
    "    print(\"Counts:\", meas.to_counts())\n",
    "except Exception as e:\n",
    "    print(\"to_counts() failed:\", e)\n",
    "\n",
    "try:\n",
    "    print(\"As NumPy array:\", meas.to_numpy()[:5])\n",
    "except Exception as e:\n",
    "    print(\"to_numpy() failed:\", e)\n"
   ]
  },
  {
   "cell_type": "code",
   "execution_count": 24,
   "id": "7376052c-e795-466a-8551-ef49b6f1825a",
   "metadata": {},
   "outputs": [
    {
     "ename": "AttributeError",
     "evalue": "'RuntimeJobV2' object has no attribute 'to_dict'",
     "output_type": "error",
     "traceback": [
      "\u001b[0;31m---------------------------------------------------------------------------\u001b[0m",
      "\u001b[0;31mAttributeError\u001b[0m                            Traceback (most recent call last)",
      "Cell \u001b[0;32mIn[24], line 4\u001b[0m\n\u001b[1;32m      1\u001b[0m \u001b[38;5;28;01mimport\u001b[39;00m\u001b[38;5;250m \u001b[39m\u001b[38;5;21;01mjson\u001b[39;00m\n\u001b[1;32m      3\u001b[0m \u001b[38;5;28;01mwith\u001b[39;00m \u001b[38;5;28mopen\u001b[39m(\u001b[38;5;124m'\u001b[39m\u001b[38;5;124mjob_d1s512g1mggs73b7ht30_raw.json\u001b[39m\u001b[38;5;124m'\u001b[39m, \u001b[38;5;124m'\u001b[39m\u001b[38;5;124mw\u001b[39m\u001b[38;5;124m'\u001b[39m) \u001b[38;5;28;01mas\u001b[39;00m f:\n\u001b[0;32m----> 4\u001b[0m     json\u001b[38;5;241m.\u001b[39mdump(\u001b[43mjob\u001b[49m\u001b[38;5;241;43m.\u001b[39;49m\u001b[43mto_dict\u001b[49m(), f, indent\u001b[38;5;241m=\u001b[39m\u001b[38;5;241m2\u001b[39m, default\u001b[38;5;241m=\u001b[39m\u001b[38;5;28mstr\u001b[39m)\n",
      "\u001b[0;31mAttributeError\u001b[0m: 'RuntimeJobV2' object has no attribute 'to_dict'"
     ]
    }
   ],
   "source": [
    "import json\n",
    "\n",
    "with open('job_d1s512g1mggs73b7ht30_raw.json', 'w') as f:\n",
    "    json.dump(job.to_dict(), f, indent=2, default=str)\n"
   ]
  },
  {
   "cell_type": "code",
   "execution_count": 25,
   "id": "25481380-fc21-4487-b862-12a68c029bd7",
   "metadata": {},
   "outputs": [
    {
     "name": "stdout",
     "output_type": "stream",
     "text": [
      "{'execution': {'execution_spans': ExecutionSpans([DoubleSliceSpan(<start='2025-07-17 01:23:24', stop='2025-07-17 01:23:28', size=10000>)])}, 'version': 2}\n"
     ]
    }
   ],
   "source": [
    "# Access metadata\n",
    "print(result.metadata)\n"
   ]
  },
  {
   "cell_type": "code",
   "execution_count": 26,
   "id": "5f246fae-6e9d-4c24-b291-304822f9e933",
   "metadata": {},
   "outputs": [
    {
     "ename": "NameError",
     "evalue": "name 'result1' is not defined",
     "output_type": "error",
     "traceback": [
      "\u001b[0;31m---------------------------------------------------------------------------\u001b[0m",
      "\u001b[0;31mNameError\u001b[0m                                 Traceback (most recent call last)",
      "Cell \u001b[0;32mIn[26], line 1\u001b[0m\n\u001b[0;32m----> 1\u001b[0m \u001b[38;5;28mprint\u001b[39m(\u001b[38;5;28mtype\u001b[39m(\u001b[43mresult1\u001b[49m))\n\u001b[1;32m      2\u001b[0m \u001b[38;5;28mprint\u001b[39m(\u001b[38;5;28mdir\u001b[39m(result1))\n\u001b[1;32m      3\u001b[0m \u001b[38;5;28mprint\u001b[39m(result1)\n",
      "\u001b[0;31mNameError\u001b[0m: name 'result1' is not defined"
     ]
    }
   ],
   "source": [
    "print(type(result1))\n",
    "print(dir(result1))\n",
    "print(result1)\n"
   ]
  },
  {
   "cell_type": "code",
   "execution_count": 30,
   "id": "141da1c2-14f2-4c8d-9173-c9be13eb435c",
   "metadata": {},
   "outputs": [],
   "source": [
    "import matplotlib.pyplot as plt\n",
    "import numpy as np\n",
    "import datetime\n",
    "from qiskit_ibm_runtime import QiskitRuntimeService\n",
    "\n",
    "service = QiskitRuntimeService()\n",
    "\n",
    "def fetch_and_save_jobs_separately(n=5):\n",
    "    jobs = service.jobs(limit=n)\n",
    "    for i, job in enumerate(jobs):\n",
    "        try:\n",
    "            job_id = job.job_id()\n",
    "            print(f\"\\n📦 Fetching Job {i+1} (ID: {job_id})...\")\n",
    "            \n",
    "            # Get result\n",
    "            result = job.result()\n",
    "            primitive_result = result[0]\n",
    "            bit_array = primitive_result.data.meas\n",
    "            bit_dict = dict(bit_array)\n",
    "\n",
    "            print(f\"✅ Job {i+1} fetched. Top 5 bitstrings:\")\n",
    "            for k, v in list(bit_dict.items())[:5]:\n",
    "                print(f\"{k}: {v}\")\n",
    "            \n",
    "            # Save .npy\n",
    "            timestamp = datetime.datetime.now().strftime(\"%Y%m%d_%H%M%S\")\n",
    "            filename_base = f\"bitarray_job_{i+1}_{job_id}_{timestamp}\"\n",
    "            np.save(f\"{filename_base}.npy\", bit_dict)\n",
    "\n",
    "            # Plot\n",
    "            plt.figure(figsize=(10, 4))\n",
    "            plt.bar(bit_dict.keys(), bit_dict.values(), color='skyblue')\n",
    "            plt.xticks(rotation=90)\n",
    "            plt.xlabel(\"Bitstrings\")\n",
    "            plt.ylabel(\"Counts\")\n",
    "            plt.title(f\"Job {i+1} Bitstring Distribution\")\n",
    "            plt.tight_layout()\n",
    "            plt.savefig(f\"{filename_base}.png\")\n",
    "            plt.show()\n",
    "            plt.close()\n",
    "\n",
    "        except Exception as e:\n",
    "            print(f\"⚠️ Failed to process job {i+1} (ID: {job_id}): {e}\")\n"
   ]
  },
  {
   "cell_type": "code",
   "execution_count": 28,
   "id": "c49913ef-7389-4099-841d-6bb78964ff01",
   "metadata": {},
   "outputs": [
    {
     "ename": "NameError",
     "evalue": "name 'extract_and_plot_bitarray_data' is not defined",
     "output_type": "error",
     "traceback": [
      "\u001b[0;31m---------------------------------------------------------------------------\u001b[0m",
      "\u001b[0;31mNameError\u001b[0m                                 Traceback (most recent call last)",
      "Cell \u001b[0;32mIn[28], line 1\u001b[0m\n\u001b[0;32m----> 1\u001b[0m \u001b[43mextract_and_plot_bitarray_data\u001b[49m(result1)\n",
      "\u001b[0;31mNameError\u001b[0m: name 'extract_and_plot_bitarray_data' is not defined"
     ]
    }
   ],
   "source": [
    "extract_and_plot_bitarray_data(result1)\n"
   ]
  },
  {
   "cell_type": "code",
   "execution_count": 29,
   "id": "ba69858f-90f7-4539-a2d7-21f2ee11f9b2",
   "metadata": {},
   "outputs": [
    {
     "ename": "NameError",
     "evalue": "name 'obj' is not defined",
     "output_type": "error",
     "traceback": [
      "\u001b[0;31m---------------------------------------------------------------------------\u001b[0m",
      "\u001b[0;31mNameError\u001b[0m                                 Traceback (most recent call last)",
      "Cell \u001b[0;32mIn[29], line 1\u001b[0m\n\u001b[0;32m----> 1\u001b[0m \u001b[38;5;28mprint\u001b[39m(\u001b[38;5;28mtype\u001b[39m(\u001b[43mobj\u001b[49m))\n\u001b[1;32m      2\u001b[0m \u001b[38;5;28mprint\u001b[39m(\u001b[38;5;28mdir\u001b[39m(obj))\n",
      "\u001b[0;31mNameError\u001b[0m: name 'obj' is not defined"
     ]
    }
   ],
   "source": [
    "print(type(obj))\n",
    "print(dir(obj))\n"
   ]
  },
  {
   "cell_type": "code",
   "execution_count": null,
   "id": "f8b40f79-55ec-4881-83b6-e230d741c541",
   "metadata": {},
   "outputs": [],
   "source": []
  }
 ],
 "metadata": {
  "kernelspec": {
   "display_name": "Python 3 [QGSS]",
   "language": "python",
   "name": "python3"
  },
  "language_info": {
   "codemirror_mode": {
    "name": "ipython",
    "version": 3
   },
   "file_extension": ".py",
   "mimetype": "text/x-python",
   "name": "python",
   "nbconvert_exporter": "python",
   "pygments_lexer": "ipython3",
   "version": "3.11.9"
  }
 },
 "nbformat": 4,
 "nbformat_minor": 5
}
