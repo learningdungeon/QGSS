{
 "cells": [
  {
   "cell_type": "markdown",
   "id": "a17dd19a-6f9b-46e3-bbdd-db19117f7b69",
   "metadata": {},
   "source": [
    "Lab 1: Recreating famous experiments at home!\n"
   ]
  },
  {
   "cell_type": "markdown",
   "id": "cb000de2-3576-4faa-b728-ebe99e993fd6",
   "metadata": {},
   "source": [
    "0. Setup: Gathering Our Tools"
   ]
  },
  {
   "cell_type": "code",
   "execution_count": 1,
   "id": "ad5e03b1-00b8-4a28-bbb9-9f7df464a0eb",
   "metadata": {},
   "outputs": [
    {
     "name": "stdout",
     "output_type": "stream",
     "text": [
      "Qiskit version: 2.0.3\n",
      "Grader version: 0.22.9\n"
     ]
    }
   ],
   "source": [
    "import qiskit\n",
    "import qc_grader\n",
    "print(f\"Qiskit version: {qiskit.__version__}\")\n",
    "print(f\"Grader version: {qc_grader.__version__}\")"
   ]
  },
  {
   "cell_type": "code",
   "execution_count": 2,
   "id": "64000ddd-bc98-404e-8adc-a6dc5f08924c",
   "metadata": {},
   "outputs": [
    {
     "data": {
      "text/plain": [
       "{'qgss-2025': {'channel': 'ibm_quantum_platform',\n",
       "  'url': 'https://cloud.ibm.com',\n",
       "  'token': 'Y5wDjNuGer1keOHMzwkj_5UoHJud8RPTvfc_yZxqglHQ',\n",
       "  'instance': 'crn:v1:bluemix:public:quantum-computing:us-east:a/0cbc0b1bde824777bfe56bd9c72ece9c:4e2e877c-d5e3-49a4-8dbd-902ac7733cef::',\n",
       "  'verify': True,\n",
       "  'private_endpoint': False}}"
      ]
     },
     "execution_count": 2,
     "metadata": {},
     "output_type": "execute_result"
    }
   ],
   "source": [
    "# Check that the account has been saved properly\n",
    "from qiskit_ibm_runtime import QiskitRuntimeService\n",
    "service = QiskitRuntimeService(name=\"qgss-2025\")\n",
    "service.saved_accounts()"
   ]
  },
  {
   "cell_type": "markdown",
   "id": "cddce65e-cc7d-484d-947f-03b20da7b3c8",
   "metadata": {},
   "source": [
    "Imports"
   ]
  },
  {
   "cell_type": "code",
   "execution_count": 3,
   "id": "4ff95e57-faf5-437c-b8de-698d79ad8f20",
   "metadata": {},
   "outputs": [],
   "source": [
    "# Essential libraries\n",
    "import numpy as np\n",
    "import matplotlib.pyplot as plt\n",
    "import ipywidgets as widgets\n",
    "from IPython.display import display\n",
    "from PIL import Image\n",
    "import io\n",
    "\n",
    "from qiskit import QuantumCircuit\n",
    "from qiskit.circuit import Parameter\n",
    "from qiskit.visualization import plot_histogram, plot_distribution\n",
    "from qiskit_ibm_runtime import Options, Session, SamplerV2 as Sampler\n",
    "from qiskit.result import marginal_distribution\n",
    "\n",
    "from qiskit.transpiler import generate_preset_pass_manager\n",
    "from qiskit_ibm_runtime import QiskitRuntimeService\n",
    "from qiskit_aer import AerSimulator\n",
    "\n",
    "from qc_grader.challenges.qgss_2025 import (\n",
    "    grade_lab1_ex1_1, \n",
    "    grade_lab1_ex1_2, \n",
    "    grade_lab1_ex1_3, \n",
    "    grade_lab1_ex1_4, \n",
    "    grade_lab1_ex2, \n",
    "    grade_lab1_ex3,\n",
    "    grade_lab1_ex4,\n",
    "    grade_lab1_ex5,\n",
    "    grade_lab1_ex6)"
   ]
  },
  {
   "cell_type": "markdown",
   "id": "2f8ec2c6-045f-4aa5-a135-b0985ba10b65",
   "metadata": {},
   "source": [
    "Chapter 1: Superposition, Interference and Measurement\n"
   ]
  },
  {
   "cell_type": "markdown",
   "id": "a0168834-9cb6-4981-b88e-5c3b0791743c",
   "metadata": {},
   "source": [
    "Exercise 1: Build a quantum circuit for the double-slit experiment\n",
    "Exercise 1-1: Make a slit\n",
    "Goal: Create a quantum circuit that models a particle (qubit) passing through two slits, achieving a superposition of being in the (lower slit) and (upper slit) states.\n",
    "\n"
   ]
  },
  {
   "cell_type": "code",
   "execution_count": 4,
   "id": "8915ee4d-2850-42bb-b01e-ba5e5f4bce3a",
   "metadata": {},
   "outputs": [
    {
     "data": {
      "image/png": "[encoded data removed]",
      "text/plain": [
       "<Figure size 294.423x200.667 with 1 Axes>"
      ]
     },
     "execution_count": 4,
     "metadata": {},
     "output_type": "execute_result"
    }
   ],
   "source": [
    "from qiskit import QuantumCircuit, QuantumRegister, ClassicalRegister\n",
    "\n",
    "qr = QuantumRegister(1, name='q')\n",
    "cr = ClassicalRegister(1, name='c_screen')\n",
    "\n",
    "double_slit = QuantumCircuit(qr, cr)\n",
    "\n",
    "# Your code here\n",
    "double_slit.h(qr[0])  # Apply Hadamard gate to create superposition\n",
    "# End of your code\n",
    "\n",
    "double_slit.draw('mpl')"
   ]
  },
  {
   "cell_type": "code",
   "execution_count": 5,
   "id": "12924867-2665-458a-b886-8dfcebb882d7",
   "metadata": {},
   "outputs": [
    {
     "name": "stdout",
     "output_type": "stream",
     "text": [
      "Submitting your answer. Please wait...\n",
      "Congratulations! 🎉 Your answer is correct.\n"
     ]
    }
   ],
   "source": [
    "# Submit your answer using the following code\n",
    "grade_lab1_ex1_1(double_slit)"
   ]
  },
  {
   "cell_type": "markdown",
   "id": "c1f09143-2fc1-47d2-b563-92acf5d6da6f",
   "metadata": {},
   "source": [
    "Exercise 1: Build a quantum circuit for the double-slit experiment\n",
    "Exercise 1-2: Make a screen\n",
    "Goal: Extend the previous circuit to model the screen where interference occurs. Specifically, implement the center of the screen where no phase difference is introduced, and then measure the qubit."
   ]
  },
  {
   "cell_type": "code",
   "execution_count": 6,
   "id": "765c02cd-4336-4bc5-bb6f-e155436b8a26",
   "metadata": {},
   "outputs": [
    {
     "data": {
      "image/png": "[encoded data removed]",
      "text/plain": [
       "<Figure size 461.645x200.667 with 1 Axes>"
      ]
     },
     "execution_count": 6,
     "metadata": {},
     "output_type": "execute_result"
    }
   ],
   "source": [
    "# My code here\n",
    "# Applying Hadamard again for superposition interference\n",
    "double_slit.h(qr[0])  # Second Hadamard gate creates interference\n",
    "double_slit.measure(qr[0], cr[0])  # Measurement simulates screen detection\n",
    "# end of my code\n",
    "double_slit.draw('mpl')"
   ]
  },
  {
   "cell_type": "code",
   "execution_count": 7,
   "id": "5d34fbcc-f093-4d69-93bb-0a121fe05fc8",
   "metadata": {},
   "outputs": [
    {
     "name": "stdout",
     "output_type": "stream",
     "text": [
      "Submitting your answer. Please wait...\n",
      "Congratulations! 🎉 Your answer is correct.\n"
     ]
    }
   ],
   "source": [
    "# Submit your answer using the following code\n",
    "grade_lab1_ex1_2(double_slit)"
   ]
  },
  {
   "cell_type": "code",
   "execution_count": 8,
   "id": "a421c8e2-f56f-402b-affa-5bb158cac932",
   "metadata": {},
   "outputs": [
    {
     "data": {
      "image/png": "[encoded data removed]",
      "text/plain": [
       "<Figure size 700x500 with 1 Axes>"
      ]
     },
     "execution_count": 8,
     "metadata": {},
     "output_type": "execute_result"
    }
   ],
   "source": [
    "# use simulator\n",
    "backend = AerSimulator()\n",
    "\n",
    "# make quantum circuit compatible to the backend\n",
    "pm = generate_preset_pass_manager(backend = backend, optimization_level=3)\n",
    "qc_isa = pm.run(double_slit)\n",
    "\n",
    "# run and get counts\n",
    "sampler = Sampler(mode=backend)\n",
    "counts = sampler.run([qc_isa], shots = 1000).result()[0].data.c_screen.get_counts()\n",
    "\n",
    "plot_distribution(counts)"
   ]
  },
  {
   "cell_type": "markdown",
   "id": "cebe0d0e-a4b1-46d7-a56a-3479d8263472",
   "metadata": {},
   "source": [
    "Exercise 1: Build a quantum circuit for the double-slit experiment\n",
    "Exercise 1-3: Make a difference\n",
    "Your Goal: Modify the double-slit circuit to introduce a phase difference between the two paths (slits) and observe its effect on the measurement outcome at the screen.\n",
    "Implement another part of the screen. The path difference between the two beams is implemented as a phase difference. Apply a phase of only to the state of the superposed quantum state and observe the measurement results. (Hint: Use a gate that applies a phase to the state. The P gate and the S gate are representative examples.)\n",
    "\n"
   ]
  },
  {
   "cell_type": "code",
   "execution_count": 9,
   "id": "86d8b6fe-7637-4650-97ec-c41161ef5722",
   "metadata": {},
   "outputs": [
    {
     "data": {
      "image/png": "[encoded data removed]",
      "text/plain": [
       "<Figure size 545.256x200.667 with 1 Axes>"
      ]
     },
     "execution_count": 9,
     "metadata": {},
     "output_type": "execute_result"
    }
   ],
   "source": [
    "qr = QuantumRegister(1, name='q')\n",
    "cr = ClassicalRegister(1, name='c_screen')\n",
    "\n",
    "double_slit_with_difference = QuantumCircuit(qr, cr)\n",
    "double_slit_with_difference.h(0)\n",
    "\n",
    "#your code here\n",
    "double_slit_with_difference.s(0)\n",
    "#end of your code\n",
    "\n",
    "double_slit_with_difference.h(0)\n",
    "double_slit_with_difference.measure(qr, cr)\n",
    "double_slit_with_difference.draw('mpl')"
   ]
  },
  {
   "cell_type": "code",
   "execution_count": 10,
   "id": "7f0a4c47-8430-4d5b-a785-11d90c48bc0a",
   "metadata": {},
   "outputs": [
    {
     "name": "stdout",
     "output_type": "stream",
     "text": [
      "Submitting your answer. Please wait...\n",
      "Congratulations! 🎉 Your answer is correct.\n"
     ]
    }
   ],
   "source": [
    "# Submit your answer using the following code\n",
    "grade_lab1_ex1_3(double_slit_with_difference)"
   ]
  },
  {
   "cell_type": "code",
   "execution_count": 11,
   "id": "7d9c8446-af52-4f4d-b242-2a279cfd9cda",
   "metadata": {},
   "outputs": [
    {
     "data": {
      "image/png": "[encoded data removed]",
      "text/plain": [
       "<Figure size 700x500 with 1 Axes>"
      ]
     },
     "execution_count": 11,
     "metadata": {},
     "output_type": "execute_result"
    }
   ],
   "source": [
    "qc_isa = pm.run(double_slit_with_difference)\n",
    "\n",
    "#run and get counts\n",
    "sampler = Sampler(mode=backend)\n",
    "counts = sampler.run([qc_isa], shots=10000).result()[0].data.c_screen.get_counts()\n",
    "plot_distribution(counts)"
   ]
  },
  {
   "cell_type": "markdown",
   "id": "531637df-011b-4ea7-a148-7ffaac1b0ca8",
   "metadata": {},
   "source": [
    "Exercise 1: Build a quantum circuit for the double-slit experiment\n",
    "Exercise 1-4: Beautiful Fringes\n",
    "Goal: Create a parameterized quantum circuit where the phase difference can be varied, allowing you to simulate and visualize the complete interference fringe pattern.\n",
    "\n",
    "Qiskit allows using Parameters in quantum circuits. We'll use this with the Sampler to observe interference fringes.\n",
    "\n",
    "Define a parameterized quantum circuit for the double-slit experiment with a variable parameter \n",
    ". A common structure is H-gatethen another H-gate, before measurement. \n",
    "Measure q and save to c_screen.\n",
    "\n"
   ]
  },
  {
   "cell_type": "code",
   "execution_count": 12,
   "id": "493aa542-b4d8-4464-9b9b-d97d497fb349",
   "metadata": {},
   "outputs": [
    {
     "data": {
      "image/png": "[encoded data removed]",
      "text/plain": [
       "<Figure size 545.256x200.667 with 1 Axes>"
      ]
     },
     "execution_count": 12,
     "metadata": {},
     "output_type": "execute_result"
    }
   ],
   "source": [
    "from qiskit.circuit import Parameter \n",
    "φ = Parameter('φ')\n",
    "\n",
    "qr= QuantumRegister(1, name='q')\n",
    "cr = ClassicalRegister(1, name='c_screen')\n",
    "\n",
    "double_slit_fringe = QuantumCircuit(qr, cr)\n",
    "#My code here\n",
    "double_slit_fringe.h(qr[0])\n",
    "double_slit_fringe.p(φ,qr[0]) \n",
    "double_slit_fringe.h(qr[0])\n",
    "double_slit_fringe.measure(qr[0],cr[0])\n",
    "#end of my code\n",
    "\n",
    "double_slit_fringe.draw('mpl')"
   ]
  },
  {
   "cell_type": "code",
   "execution_count": 13,
   "id": "5fb6be97-06ab-493c-a43e-06da72cc2bec",
   "metadata": {},
   "outputs": [
    {
     "name": "stdout",
     "output_type": "stream",
     "text": [
      "Submitting your answer. Please wait...\n",
      "Congratulations! 🎉 Your answer is correct.\n"
     ]
    }
   ],
   "source": [
    "# Submit your answer using the following code\n",
    "grade_lab1_ex1_4(double_slit_fringe)"
   ]
  },
  {
   "cell_type": "code",
   "execution_count": 14,
   "id": "882619ff-1b4e-4f95-98d3-4f9e337668ab",
   "metadata": {},
   "outputs": [
    {
     "data": {
      "image/png": "[encoded data removed]",
      "text/plain": [
       "<Figure size 1000x200 with 2 Axes>"
      ]
     },
     "metadata": {},
     "output_type": "display_data"
    }
   ],
   "source": [
    "φ_lst = np.linspace(-3*np.pi, 3*np.pi, 100)\n",
    "qc_isa = pm.run(double_slit_fringe)\n",
    "\n",
    "φ_hit = []\n",
    "dist = sampler.run([(qc_isa, φ_lst)], shots=1000).result()[0].data.c_screen\n",
    "\n",
    "for i  in range(len(φ_lst)):\n",
    "    result = dist[i].get_counts()\n",
    "    if '0' in result:\n",
    "        φ_hit.append(result['0']/1000)\n",
    "    else:\n",
    "        φ_hit.append(0)\n",
    "\n",
    "#plot heat map\n",
    "φ_hit_2d = np.array(φ_hit).reshape(1, -1)\n",
    "\n",
    "plt.figure(figsize=(10, 2))\n",
    "plt.imshow(φ_hit_2d, cmap='gray', aspect='auto', extent=[-3*np.pi, 3*np.pi, 0, 0.1])\n",
    "\n",
    "plt.xlabel('φ (Phase difference)', fontsize=14)\n",
    "plt.colorbar(label='prob')\n",
    "plt.xticks(ticks=[-3*np.pi, -2*np.pi, -np.pi, 0, np.pi, 2*np.pi, 3*np.pi],\n",
    "           labels=['-3π', '-2π', '-π', '0', 'π', '2π', '3π'])\n",
    "plt.yticks([])  \n",
    "plt.show()"
   ]
  },
  {
   "cell_type": "markdown",
   "id": "b6ffbaab-98d3-47e2-bce4-69895530721b",
   "metadata": {},
   "source": [
    "Schrödinger's Cat: Exploring Quantum Superposition and the Act of Observation\n",
    "This thought experiment by Erwin Schrödinger (1935, \"Die gegenwärtige Situation in der Quantenmechanik\") illustrates quantum superposition and measurement's role in collapsing possibilities into a single outcome. A cat is sealed in a box with a radioactive atom. If the atom is in a superposition of decayed/not decayed, the cat, entangled with it, should be in a superposition of alive/dead until observed.\n",
    "\n",
    "Here, we'll use a rotational gate. Imagine a cat disliking the \n",
    " state. Let's see if the cat is happy or upset when we \"open the box\" (measure the qubit). Be careful! An angry quantum cat might scratch you.\n",
    "\n",
    "Exercise 2: Is the cat happy or grumpy?\n",
    "Your Goal: Create a quantum circuit that prepares a qubit in a superposition state using an \n",
    " gate, then simulate a single measurement to determine if the \"cat\" (represented by the qubit state) is \"happy\" () or \"grumpy\" ().\n"
   ]
  },
  {
   "cell_type": "code",
   "execution_count": 15,
   "id": "e4598b2c-fd14-4810-8575-3ab8bd6892d1",
   "metadata": {},
   "outputs": [],
   "source": [
    "def schrodingers_cat_experiment_theta(theta):\n",
    "    \n",
    "    qc = QuantumCircuit(1)\n",
    "\n",
    "    #my code start here\n",
    "    \n",
    "    # Apply RX(theta) gate to create superposition\n",
    "    qc.rx(theta, 0)  # Rotates qubit state by theta around X-axis\n",
    "        \n",
    "    #end of my code\n",
    "\n",
    "    qc.measure_all()\n",
    "    \n",
    "    backend = AerSimulator()\n",
    "    pm = generate_preset_pass_manager( backend = backend, optimization_level=3)\n",
    "    qc_isa = pm.run(qc)\n",
    "\n",
    "    # Circuit compile and run, shot = 1 \n",
    "    sampler = Sampler(mode=backend)\n",
    "    counts = sampler.run([qc_isa], shots = 1).result()[0].data.meas.get_counts()\n",
    "\n",
    "    measured_state = list(counts.keys())[0] if counts else '0'  # bring measured result\n",
    "\n",
    "    if measured_state == '0':\n",
    "        cat_happy = True\n",
    "    else:\n",
    "        cat_happy = False\n",
    "\n",
    "    return cat_happy, qc\n"
   ]
  },
  {
   "cell_type": "code",
   "execution_count": 16,
   "id": "1eb90ad4-a37d-4223-970f-0b150ca17667",
   "metadata": {},
   "outputs": [
    {
     "name": "stdout",
     "output_type": "stream",
     "text": [
      "Submitting your answer. Please wait...\n",
      "Congratulations! 🎉 Your answer is correct.\n"
     ]
    }
   ],
   "source": [
    "# Submit your answer using the following code\n",
    "grade_lab1_ex2(schrodingers_cat_experiment_theta)"
   ]
  },
  {
   "cell_type": "code",
   "execution_count": 17,
   "id": "54d913e5-0c2c-4166-8ba3-ec0920c642bc",
   "metadata": {},
   "outputs": [
    {
     "data": {
      "application/vnd.jupyter.widget-view+json": {
       "model_id": "f418e851a4034ca9a70f4c96d664c2c5",
       "version_major": 2,
       "version_minor": 0
      },
      "text/plain": [
       "FloatSlider(value=0.0, description='θ', max=6.283185307179586, step=0.01)"
      ]
     },
     "metadata": {},
     "output_type": "display_data"
    },
    {
     "data": {
      "application/vnd.jupyter.widget-view+json": {
       "model_id": "103c8879085e4ff99fdcd34de307dc81",
       "version_major": 2,
       "version_minor": 0
      },
      "text/plain": [
       "Button(button_style='success', description='Open the Box', style=ButtonStyle())"
      ]
     },
     "metadata": {},
     "output_type": "display_data"
    },
    {
     "data": {
      "application/vnd.jupyter.widget-view+json": {
       "model_id": "23b5aebc66d54e1180e043fa75b2ff5e",
       "version_major": 2,
       "version_minor": 0
      },
      "text/plain": [
       "Output()"
      ]
     },
     "metadata": {},
     "output_type": "display_data"
    }
   ],
   "source": [
    "happy_img = Image.open('happy.png')\n",
    "grumpy_img = Image.open('grumpy.png')\n",
    "\n",
    "out = widgets.Output()\n",
    "\n",
    "slider = widgets.FloatSlider(\n",
    "    value=0,\n",
    "    min=0,\n",
    "    max=2*np.pi,\n",
    "    step=0.01,\n",
    "    description='θ',\n",
    "    continuous_update=True\n",
    ")\n",
    "\n",
    "button = widgets.Button(\n",
    "    description='Open the Box',\n",
    "    button_style='success'\n",
    ")\n",
    "    \n",
    "def on_button_click(b):\n",
    "    with out:\n",
    "        out.clear_output(wait=True)  # clean output\n",
    "\n",
    "        result = schrodingers_cat_experiment_theta(slider.value)[0]\n",
    "\n",
    "        if result==True:\n",
    "            img = happy_img\n",
    "            txt = \"happy\"\n",
    "        else:\n",
    "            img = grumpy_img\n",
    "            txt = \"grumpy\"\n",
    "\n",
    "        new_size = (400, 400)\n",
    "        resized_img = img.resize(new_size)\n",
    "        \n",
    "        buf = io.BytesIO()\n",
    "        resized_img.save(buf, format='PNG')\n",
    "        buf.seek(0)\n",
    "        probability = int(np.cos(slider.value/2)**2 * 100)\n",
    "\n",
    "        display(f\"The probability of cat is happy: {probability}%\")\n",
    "        display(f\"The observed cat is : {txt}\")\n",
    "        display(widgets.Image(value=buf.read(), format='png'))\n",
    "\n",
    "button.on_click(on_button_click)\n",
    "\n",
    "display(slider, button, out)"
   ]
  },
  {
   "cell_type": "markdown",
   "id": "e88c5a2c-a038-4f90-bc5d-b9528c1b0aeb",
   "metadata": {},
   "source": [
    "Before we revisit the double-slit experiment, let's clarify what happens when we try to observe or \"measure\" a qubit, especially after applying a gate like. If you are familiar with quantum measurement, you can skip this part.\n",
    "\n",
    "Quantum Measurement details: Observing the Qubit\n",
    "1. Qubit State Before Measurement: After on, the state is a superposition:\n",
    "2. Act of Measurement: Measurement in the computational basis\n",
    "3. Probabilistic Outcomes: Probability of measuring \n",
    "4. State Collapse: Post-measurement, the state collapses:\n"
   ]
  },
  {
   "cell_type": "code",
   "execution_count": 18,
   "id": "7e1cdac8-9e0a-4892-91b5-5a286798373f",
   "metadata": {},
   "outputs": [
    {
     "data": {
      "image/png": "[encoded data removed]",
      "text/plain": [
       "<Figure size 653.915x284.278 with 1 Axes>"
      ]
     },
     "execution_count": 18,
     "metadata": {},
     "output_type": "execute_result"
    }
   ],
   "source": [
    "from qiskit import QuantumCircuit, QuantumRegister, ClassicalRegister\n",
    "from qiskit.circuit import Parameter\n",
    "\n",
    "# Registers\n",
    "qr = QuantumRegister(1, name='q')\n",
    "cr1 = ClassicalRegister(1, name='c_detector')\n",
    "cr2 = ClassicalRegister(1, name='c_screen')\n",
    "\n",
    "# Initialize circuit\n",
    "double_slit_with_detector = QuantumCircuit(qr, cr1, cr2)\n",
    "\n",
    "# Parameter for phase difference\n",
    "φ = Parameter('φ')\n",
    "#My code here\n",
    "# Step 1: First Hadamard (creates superposition)\n",
    "double_slit_with_detector.h(qr[0])\n",
    "\n",
    "# Step 2: MEASURE which slit (collapses superposition)\n",
    "double_slit_with_detector.measure(qr[0], cr1)  # Path detection\n",
    "\n",
    "# Step 3: Apply phase difference (optional)\n",
    "double_slit_with_detector.p(φ, qr[0])\n",
    "\n",
    "# Step 4: Second Hadamard (attempts to recombine paths)\n",
    "double_slit_with_detector.h(qr[0])\n",
    "\n",
    "# Step 5: Final measurement (screen)\n",
    "double_slit_with_detector.measure(qr[0], cr2)\n",
    "#End of my code\n",
    "#Draw the circuit\n",
    "double_slit_with_detector.draw('mpl')"
   ]
  },
  {
   "cell_type": "code",
   "execution_count": 19,
   "id": "fd3032ba-be65-41af-9524-195ec56bc5a2",
   "metadata": {},
   "outputs": [
    {
     "name": "stdout",
     "output_type": "stream",
     "text": [
      "Submitting your answer. Please wait...\n",
      "Congratulations! 🎉 Your answer is correct.\n"
     ]
    }
   ],
   "source": [
    "grade_lab1_ex3(double_slit_with_detector)"
   ]
  },
  {
   "cell_type": "code",
   "execution_count": 20,
   "id": "bbb5171e-ae3b-4c73-9961-12d72743cf01",
   "metadata": {},
   "outputs": [],
   "source": [
    "\n",
    "def create_chsh_circuit(x, y):\n",
    "    \"\"\"Builds Qiskit circuit for Alice & Bob's quantum strategy.\"\"\"\n",
    "    qc = QuantumCircuit(2, 2, name=f'CHSH_{x}{y}') # 2 qubits, 2 classical bits\n",
    "\n",
    "    # ---- TODO : Task 1 ---\n",
    "    # Implement the gates to create the Bell state |Φ+> = (|00> + |11>)/sqrt(2).\n",
    "    qc.h(0)  # Apply Hadamard to qubit 0\n",
    "    qc.cx(0, 1) # Apply CNOT with qubit 0 as control and qubit 1 as target\n",
    "    # --- End of TODO ---\n",
    "    qc.barrier()\n",
    "    # Step 2a: Alice's measurement basis (X if x=1, Z if x=0)\n",
    "    if x == 1:\n",
    "        qc.h(0) # H for X-basis measurement\n",
    "    ##  --- TODO: Task 2 ----\n",
    "    # Step 2b: Bob's measurement basis\n",
    "    # Using np.pi \n",
    "    #import numpy as np # Adding this here for completeness within the function example\n",
    "    if y == 0:\n",
    "        qc.ry(-np.pi / 4, 1)\n",
    "    elif y == 1:\n",
    "        qc.ry(np.pi / 4, 1)\n",
    "    # --- End of TODO ---\n",
    "    qc.barrier()\n",
    "    # Step 3: Measure\n",
    "    qc.measure([0, 1], [0, 1]) # q0 to c0 (Alice), q1 to c1 (Bob) -> 'ba' format\n",
    "    return qc\n",
    "\n"
   ]
  },
  {
   "cell_type": "code",
   "execution_count": 21,
   "id": "91902f1d-ce85-4043-a074-4a82986b0a51",
   "metadata": {},
   "outputs": [
    {
     "name": "stdout",
     "output_type": "stream",
     "text": [
      "Submitting your answer. Please wait...\n",
      "Congratulations! 🎉 Your answer is correct.\n"
     ]
    }
   ],
   "source": [
    "# Submit your answer using the following code\n",
    "grade_lab1_ex4(create_chsh_circuit)"
   ]
  },
  {
   "cell_type": "code",
   "execution_count": 22,
   "id": "e51ee897-d999-4de5-b3a1-daff62c04739",
   "metadata": {},
   "outputs": [
    {
     "name": "stdout",
     "output_type": "stream",
     "text": [
      "Quantum circuit for inputs x=1, y=1 (Check your Exercises 1 & 2 implementation):\n"
     ]
    },
    {
     "data": {
      "image/png": "[encoded data removed]",
      "text/plain": [
       "<Figure size 705.35x284.278 with 1 Axes>"
      ]
     },
     "metadata": {},
     "output_type": "display_data"
    }
   ],
   "source": [
    "circuits = []\n",
    "input_pairs = []\n",
    "for x_in in [0, 1]:\n",
    "    for y_in in [0, 1]:\n",
    "        input_pairs.append((x_in, y_in))\n",
    "        circuits.append(create_chsh_circuit(x_in, y_in))\n",
    "\n",
    "print(\"Quantum circuit for inputs x=1, y=1 (Check your Exercises 1 & 2 implementation):\")\n",
    "if len(circuits) == 4:\n",
    "    display(circuits[3].draw('mpl')) # (x,y) = (1,1)\n",
    "else:\n",
    "    print(\"Circuits not generated. Run previous cell after completing Exercises 1 & 2.\")"
   ]
  },
  {
   "cell_type": "code",
   "execution_count": 23,
   "id": "0a43dde5-646a-4cc1-b347-0c78c1b2bbe8",
   "metadata": {},
   "outputs": [
    {
     "name": "stdout",
     "output_type": "stream",
     "text": [
      "Preparing circuits for the simulator...\n",
      "\n",
      "--- Simulation Results (Counts) ---\n",
      "Inputs (x=0, y=0):\n",
      "  Outcomes (ba): {'00': 421, '01': 84, '10': 68, '11': 451}\n",
      "Inputs (x=0, y=1):\n",
      "  Outcomes (ba): {'00': 434, '01': 80, '10': 75, '11': 435}\n",
      "Inputs (x=1, y=0):\n",
      "  Outcomes (ba): {'00': 437, '01': 63, '10': 80, '11': 444}\n",
      "Inputs (x=1, y=1):\n",
      "  Outcomes (ba): {'00': 83, '01': 419, '10': 432, '11': 90}\n",
      "\n",
      "Plotting results...\n"
     ]
    },
    {
     "data": {
      "image/png": "[encoded data removed]",
      "text/plain": [
       "<Figure size 640x480 with 1 Axes>"
      ]
     },
     "metadata": {},
     "output_type": "display_data"
    }
   ],
   "source": [
    "# AerSimulator (if not already defined)\n",
    "# backend = AerSimulator()\n",
    "# Pass manager (if not already defined)\n",
    "# pm = generate_preset_pass_manager(backend=backend, optimization_level=1)\n",
    "\n",
    "SHOTS = 1024\n",
    "\n",
    "print(\"Preparing circuits for the simulator...\")\n",
    "isa_qc_chsh = pm.run(circuits)\n",
    "\n",
    "sampler_chsh = Sampler(mode=backend) # SamplerV2\n",
    "job_chsh = sampler_chsh.run(isa_qc_chsh, shots=SHOTS)\n",
    "results_chsh = job_chsh.result()\n",
    "\n",
    "# SamplerV2: results_chsh[i].data.c.get_counts() where 'c' is the default name of classical register\n",
    "counts_list = [results_chsh[i].data.c.get_counts() for i in range(len(circuits))]\n",
    "\n",
    "print(\"\\n--- Simulation Results (Counts) ---\")\n",
    "for i, (x, y) in enumerate(input_pairs):\n",
    "    print(f\"Inputs (x={x}, y={y}):\")\n",
    "    sorted_counts = dict(sorted(counts_list[i].items()))\n",
    "    print(f\"  Outcomes (ba): {sorted_counts}\")\n",
    "\n",
    "print(\"\\nPlotting results...\")\n",
    "display(plot_histogram(counts_list,\n",
    "                       legend=[f'(x={x}, y={y})' for x, y in input_pairs],\n",
    "                       title='CHSH Game Outcomes (ba format)'))"
   ]
  },
  {
   "cell_type": "markdown",
   "id": "dac408ff-90e7-42be-80ba-2dcba2915e4a",
   "metadata": {},
   "source": [
    "Exercise 5: Analyze Circuit for CHSH Game\n",
    "Your Goal: Calculate the win probability for Alice and Bob for each input case (x, y) based on the simulation results, and then determine their overall average win probability using the quantum strategy.\n",
    "\n",
    "Tasks:\n",
    "\n",
    "Task 1: Determine the target a XOR b value for a win, given x and y.\n",
    "Task 2: Count shots (wins_for_this_case) satisfying the win condition for the current (x, y)."
   ]
  },
  {
   "cell_type": "code",
   "execution_count": 24,
   "id": "8571d258-418e-48e7-af89-c5e4c359209c",
   "metadata": {},
   "outputs": [
    {
     "name": "stdout",
     "output_type": "stream",
     "text": [
      "--- Calculating Win Probabilities ---\n",
      "Inputs (x=0, y=0): Target (a XOR b) = 0. Win Probability = 0.8516\n",
      "Inputs (x=0, y=1): Target (a XOR b) = 0. Win Probability = 0.8486\n",
      "Inputs (x=1, y=0): Target (a XOR b) = 0. Win Probability = 0.8604\n",
      "Inputs (x=1, y=1): Target (a XOR b) = 1. Win Probability = 0.8311\n",
      "\n",
      "--- Overall Performance ---\n",
      "Experimental Average Win Probability: 0.8479\n",
      "Theoretical Quantum Win Probability: 0.8536\n",
      "Classical Limit Win Probability:     0.7500\n",
      "\n",
      "Success! Your result (0.8479) clearly beats the classical 75% limit!\n",
      "It's likely close to the theoretical quantum prediction of 0.8536.\n"
     ]
    }
   ],
   "source": [
    "win_probabilities = {}\n",
    "print(\"--- Calculating Win Probabilities ---\")\n",
    "\n",
    "for i, (x, y) in enumerate(input_pairs):\n",
    "    counts = counts_list[i]\n",
    "\n",
    "    # ---- TODO : Task 1 ---\n",
    "    # Target (a XOR b) value for winning\n",
    "    # Win Condition: a XOR b == x AND y\n",
    "    target_xor_result = x & y # Bitwise AND for x AND y\n",
    "    # --- End of TODO --\n",
    "    wins_for_this_case = 0\n",
    "\n",
    "    # ---- TODO : Task 2 ---\n",
    "    # Calculate the total number of shots that satisfy the winning condition determined above. \n",
    "        \n",
    "    for measurement_outcome, count in counts.items():\n",
    "        # Qiskit measurement outcomes are typically in little-endian for classical bits.\n",
    "        # If qc.measure([0, 1], [0, 1]) is used:\n",
    "        # measurement_outcome[0] is classical bit 1 (from qubit 1, Bob's result 'b')\n",
    "        # measurement_outcome[1] is classical bit 0 (from qubit 0, Alice's result 'a')\n",
    "        b = int(measurement_outcome[0]) # Bob's bit\n",
    "        a = int(measurement_outcome[1]) # Alice's bit\n",
    "        \n",
    "        actual_xor_result = a ^ b # Calculate a XOR b\n",
    "\n",
    "        if actual_xor_result == target_xor_result:\n",
    "            wins_for_this_case += count\n",
    "        # --- End of TODO --\n",
    "\n",
    "\n",
    "    prob = wins_for_this_case / SHOTS if SHOTS > 0 else 0\n",
    "    win_probabilities[(x, y)] = prob\n",
    "    print(f\"Inputs (x={x}, y={y}): Target (a XOR b) = {target_xor_result}. Win Probability = {prob:.4f}\")\n",
    "\n",
    "avg_win_prob = sum(win_probabilities.values()) / 4.0\n",
    "P_win_quantum_theory = np.cos(np.pi / 8)**2  # ~0.8536\n",
    "P_win_classical_limit = 0.75\n",
    "\n",
    "print(\"\\n--- Overall Performance ---\")\n",
    "print(f\"Experimental Average Win Probability: {avg_win_prob:.4f}\")\n",
    "print(f\"Theoretical Quantum Win Probability: {P_win_quantum_theory:.4f}\")\n",
    "print(f\"Classical Limit Win Probability:     {P_win_classical_limit:.4f}\")\n",
    "\n",
    "if avg_win_prob > P_win_classical_limit + 0.01: # Allow for small simulation variance\n",
    "    print(f\"\\nSuccess! Your result ({avg_win_prob:.4f}) clearly beats the classical 75% limit!\")\n",
    "    print(f\"It's likely close to the theoretical quantum prediction of {P_win_quantum_theory:.4f}.\")\n",
    "elif avg_win_prob > P_win_classical_limit - 0.02 : # Could be noise or minor error\n",
    "     print(f\"\\nClose, but no cigar? Your result ({avg_win_prob:.4f}) is around the classical limit ({P_win_classical_limit:.4f}).\")\n",
    "     print(\"Check your solutions for Exercises 1-4 carefully, especially the win counting logic in Ex 4.\")\n",
    "else:\n",
    "    print(f\"\\nHmm, the result ({avg_win_prob:.4f}) is unexpectedly low, even below the classical limit.\")\n",
    "    print(\"There might be an error in Exercises 1-4. Please review your circuit and analysis code.\")"
   ]
  },
  {
   "cell_type": "code",
   "execution_count": 25,
   "id": "1b82fa6e-3b0c-44d9-94e6-9e599a2b539e",
   "metadata": {},
   "outputs": [
    {
     "name": "stdout",
     "output_type": "stream",
     "text": [
      "Submitting your answer. Please wait...\n",
      "Congratulations! 🎉 Your answer is correct.\n"
     ]
    }
   ],
   "source": [
    "# Submit your answer using the following code\n",
    "grade_lab1_ex5(counts_list, avg_win_prob)\n"
   ]
  },
  {
   "cell_type": "markdown",
   "id": "d5303816-7518-4284-b0db-0e03960d1a96",
   "metadata": {},
   "source": [
    "Exercise 6: Quantum Teleportation\n",
    "Goal: Construct the complete quantum circuit for teleporting an unknown quantum state from Alice's message qubit to Bob's qubit, utilizing an entangled Bell pair and mid-circuit measurements with conditional operation.\n",
    "\n",
    "Tasks:\n",
    "\n",
    "Step 1: Create the shared entangled Bell pair between q1 and q2.\n",
    "Step 2: Implement Alice's Bell measurement gates (before actual measurement).\n",
    "Step 3: Implement Bob's conditional correction gates based on Alice's measurement results."
   ]
  },
  {
   "cell_type": "code",
   "execution_count": 26,
   "id": "8ba615d6-c415-4914-8656-cf563da0c3cd",
   "metadata": {},
   "outputs": [
    {
     "name": "stdout",
     "output_type": "stream",
     "text": [
      "Full Teleportation Circuit (Check your Exercises 1, 2, 3):\n"
     ]
    },
    {
     "data": {
      "image/png": "[encoded data removed]",
      "text/plain": [
       "<Figure size 1436.13x367.889 with 1 Axes>"
      ]
     },
     "metadata": {},
     "output_type": "display_data"
    }
   ],
   "source": [
    "# Define quantum and classical registers\n",
    "qr_tele = QuantumRegister(3, name='q')\n",
    "cr_alice_tele = ClassicalRegister(2, name='c_alice') # For Alice's measurements\n",
    "\n",
    "# For verification with statevector.\n",
    "# If we were to run on hardware and verify by counts, we'd add a classical bit for Bob.\n",
    "teleport_qc = QuantumCircuit(qr_tele, cr_alice_tele, name='Teleportation')\n",
    "\n",
    "# Prepare Alice's message state |ψ> = |+> on q0\n",
    "teleport_qc.h(qr_tele[0])\n",
    "teleport_qc.barrier()\n",
    "\n",
    "# ---- TODO : Task 1 ---\n",
    "# Step 1: Create Bell pair between q1 (Alice) and q2 (Bob)\n",
    "\n",
    "teleport_qc.h(qr_tele[1])   # Apply Hadamard to q1 (Alice's half of Bell pair)\n",
    "teleport_qc.cx(qr_tele[1], qr_tele[2]) #Apply cx \n",
    "\n",
    "# --- End of TODO --\n",
    "\n",
    "teleport_qc.barrier()\n",
    "\n",
    "# ---- TODO : Task 2 ---\n",
    "# Step 2: Alice's Bell Measurement (gates part))\n",
    "\n",
    "teleport_qc.cx(qr_tele[0], qr_tele[1])     # CNOT with q0 (message) as control vice versa\n",
    "teleport_qc.h(qr_tele[0])                  # Hadamard on q0 (messaging qubit)\n",
    "\n",
    "# --- End of TODO --\n",
    "\n",
    "teleport_qc.barrier()\n",
    "\n",
    "# Alice measures her qubits q0 and q1\n",
    "\n",
    "teleport_qc.measure(qr_tele[0], cr_alice_tele[0]) # q0 -> c0\n",
    "teleport_qc.measure(qr_tele[1], cr_alice_tele[1]) # q1 -> c1\n",
    "teleport_qc.barrier()\n",
    "\n",
    "# ---- TODO : Task 3 ---\n",
    "# Step 3: Bob's Conditional Corrections on q2\n",
    "\n",
    "with teleport_qc.if_test((cr_alice_tele[1], 1)):\n",
    "    teleport_qc.x(qr_tele[2])\n",
    "\n",
    "# If c0 (from q0) is 1, apply a Z gate to q2.\n",
    "with teleport_qc.if_test((cr_alice_tele[0], 1)):\n",
    "    teleport_qc.z(qr_tele[2])\n",
    "# --- End of TODO --\n",
    "\n",
    "print(\"Full Teleportation Circuit (Check your Exercises 1, 2, 3):\")\n",
    "display(teleport_qc.draw('mpl'))"
   ]
  },
  {
   "cell_type": "code",
   "execution_count": 27,
   "id": "7957c27e-3569-4d02-9928-e96cd14da14e",
   "metadata": {},
   "outputs": [
    {
     "name": "stdout",
     "output_type": "stream",
     "text": [
      "Submitting your answer. Please wait...\n",
      "Congratulations! 🎉 Your answer is correct.\n"
     ]
    }
   ],
   "source": [
    "# Submit your answer using the following code\n",
    "grade_lab1_ex6(teleport_qc)"
   ]
  },
  {
   "cell_type": "code",
   "execution_count": 28,
   "id": "19ff919b-61a1-49d4-b12c-1eb42f74f744",
   "metadata": {},
   "outputs": [
    {
     "name": "stdout",
     "output_type": "stream",
     "text": [
      "Using statevector simulator...\n",
      "Running statevector simulation...\n",
      "Simulation successful.\n",
      "Statevector retrieved successfully.\n",
      "\n",
      "Visualizing final qubit states (q2 should match initial q0 state |+>):\n"
     ]
    },
    {
     "data": {
      "text/plain": [
       "'TODO'"
      ]
     },
     "metadata": {},
     "output_type": "display_data"
    }
   ],
   "source": [
    "%matplotlib inline\n",
    "\n",
    "# Use Statevector Simulator\n",
    "print(\"Using statevector simulator...\")\n",
    "sv_simulator = AerSimulator(method='statevector') # Explicitly set method for clarity\n",
    "teleport_qc_sv = teleport_qc.copy() # Work with a copy for statevector simulation\n",
    "teleport_qc_sv.save_statevector() # Save statevector at the end\n",
    "\n",
    "print(\"Running statevector simulation...\")\n",
    "job_sv = sv_simulator.run(teleport_qc_sv) # shots=1 is default for statevector\n",
    "result_sv = job_sv.result()\n",
    "\n",
    "if result_sv.success:\n",
    "    print(\"Simulation successful.\")\n",
    "    final_statevector = result_sv.get_statevector()\n",
    "    print(\"Statevector retrieved successfully.\")\n",
    "    print(\"\\nVisualizing final qubit states (q2 should match initial q0 state |+>):\")\n",
    "    # q0 was |+> (points along +X). After teleportation, q2 should be |+>.\n",
    "    # q0 and q1 states are after Alice's measurement, so they'll be collapsed.\n",
    "    \n",
    "    display(\"TODO\") #TODO, use plot_bloch_multivector to plot final_state\n",
    "        \n",
    "else:\n",
    "    print(f\"Statevector simulation failed! Status: {result_sv.status}\")"
   ]
  },
  {
   "cell_type": "markdown",
   "id": "cca430a9-7701-4669-a006-8e34dd3ae465",
   "metadata": {},
   "source": [
    "Conclusion: The Magic of Entanglement and Information\n",
    "You have successfully implemented the quantum teleportation protocol!\n",
    "\n",
    "Key Takeaways:\n",
    "\n",
    "Teleportation transfers an unknown quantum state using shared entanglement and classical communication.\n",
    "It doesn't transfer the physical particle itself.\n",
    "The original state on Alice's qubit is destroyed (consistent with the No-Cloning Theorem).\n",
    "Requires classical communication (Alice's measurement results to Bob), so no faster-than-light information transfer.\n",
    "Quantum teleportation is foundational for quantum communication and computation."
   ]
  },
  {
   "cell_type": "code",
   "execution_count": 29,
   "id": "eabcc06a-bb07-4278-b1b5-b4ec0dce0494",
   "metadata": {},
   "outputs": [
    {
     "name": "stdout",
     "output_type": "stream",
     "text": [
      "Lab 0: 2/2 exercises completed (100%)\n",
      "    ✅ 1134 participants have completed this lab\n",
      "Lab 1: 9/9 exercises completed (100%)\n",
      "    ✅ 164 participants have completed this lab\n",
      "Lab 2: 0/7 exercises completed (0%)\n",
      "    ✅ 1 participants have completed this lab\n",
      "Lab 3: 0/5 exercises completed (0%)\n",
      "    ✅ 0 participants have completed this lab\n",
      "Lab 4: 0/6 exercises completed (0%)\n",
      "    ✅ 0 participants have completed this lab\n"
     ]
    }
   ],
   "source": [
    "#Check your submission status with the code belowf\n",
    "from qc_grader.grader.grade import check_lab_completion_status\n",
    "check_lab_completion_status(\"qgss_2025\")"
   ]
  },
  {
   "cell_type": "code",
   "execution_count": null,
   "id": "d53e41d6-2cc2-4174-9897-b2a0dcabc79b",
   "metadata": {},
   "outputs": [],
   "source": []
  }
 ],
 "metadata": {
  "kernelspec": {
   "display_name": "Python 3 [QGSS]",
   "language": "python",
   "name": "python3"
  },
  "language_info": {
   "codemirror_mode": {
    "name": "ipython",
    "version": 3
   },
   "file_extension": ".py",
   "mimetype": "text/x-python",
   "name": "python",
   "nbconvert_exporter": "python",
   "pygments_lexer": "ipython3",
   "version": "3.11.9"
  }
 },
 "nbformat": 4,
 "nbformat_minor": 5
}
