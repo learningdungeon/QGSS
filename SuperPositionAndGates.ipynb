{
 "cells": [
  {
   "cell_type": "code",
   "execution_count": 1,
   "id": "59ea94f3-d1a2-4541-9b16-2b9a78cae1e4",
   "metadata": {},
   "outputs": [
    {
     "name": "stdout",
     "output_type": "stream",
     "text": [
      "We are using the ibm_torino quantum computer.\n"
     ]
    }
   ],
   "source": [
    "from qiskit_ibm_runtime import QiskitRuntimeService \n",
    "\n",
    "# Load your saved account\n",
    "service = QiskitRuntimeService(name=\"qgss-2025\")\n",
    "\n",
    "# Get the least busy real backend (not simulator)\n",
    "backend = service.least_busy(operational=True, simulator=False)\n",
    "\n",
    "print(f\"We are using the {backend.name} quantum computer.\")\n"
   ]
  },
  {
   "cell_type": "code",
   "execution_count": 3,
   "id": "c6462279-68a4-4d65-aba6-8dd067aa7e22",
   "metadata": {},
   "outputs": [],
   "source": [
    "### WRITE YOUR CODE BELOW HERE ###\n",
    "\n",
    "#Import important libs and classes\n",
    "\n",
    "# Quantum circuit and transpilation\n",
    "from qiskit import QuantumCircuit, transpile\n",
    "\n",
    "# Visualization\n",
    "from qiskit.visualization import plot_histogram\n",
    "\n",
    "# IBM Quantum runtime access\n",
    "from qiskit_ibm_runtime import QiskitRuntimeService, Sampler\n",
    "\n",
    "\n"
   ]
  },
  {
   "cell_type": "code",
   "execution_count": 4,
   "id": "ec61b284-9414-4126-8864-d6974018f73d",
   "metadata": {},
   "outputs": [],
   "source": [
    "\n",
    "### WRITE YOUR CODE BELOW HERE ###\n",
    "#Step. 1: Map\n",
    "# GHZ Circuit (Step 1 - Mapping)\n",
    "qc = QuantumCircuit(3)\n",
    "qc.h(0)\n",
    "qc.cx(0, 1)\n",
    "qc.cx(1, 2)\n",
    "qc.measure_all()\n",
    "\n",
    "# You should have created a GHZ circuit above and assigned with variable `qc`"
   ]
  },
  {
   "cell_type": "code",
   "execution_count": null,
   "id": "00e39382-a1a1-4caa-a8ab-fb458fba3eeb",
   "metadata": {},
   "outputs": [],
   "source": [
    "# Step 2. Optimize\n",
    "pm = \n",
    "qc_transpiled = "
   ]
  },
  {
   "cell_type": "code",
   "execution_count": null,
   "id": "58291347-38ad-4faa-8f07-1a00570bbaa2",
   "metadata": {},
   "outputs": [],
   "source": []
  }
 ],
 "metadata": {
  "kernelspec": {
   "display_name": "Python 3 [QGSS]",
   "language": "python",
   "name": "python3"
  },
  "language_info": {
   "codemirror_mode": {
    "name": "ipython",
    "version": 3
   },
   "file_extension": ".py",
   "mimetype": "text/x-python",
   "name": "python",
   "nbconvert_exporter": "python",
   "pygments_lexer": "ipython3",
   "version": "3.11.9"
  }
 },
 "nbformat": 4,
 "nbformat_minor": 5
}
